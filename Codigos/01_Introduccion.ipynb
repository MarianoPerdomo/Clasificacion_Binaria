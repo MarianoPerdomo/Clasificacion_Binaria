{
 "cells": [
  {
   "cell_type": "markdown",
   "metadata": {},
   "source": [
    "# Ejemplo de introducción a la clasificación binaria"
   ]
  },
  {
   "cell_type": "markdown",
   "metadata": {},
   "source": [
    "Se trabaja con el dataset \"breast_cancer\" de scikit-learn. En el enlace https://scikit-learn.org/stable/datasets/toy_dataset.html se pueden encontrar otros datasets \"de juguete\" para practicar.\n",
    "\n",
    "Esta base de datos nos es útil por que tiene dos clases, definiendo así un problema de clasificación binaria. \n",
    "\n",
    "En la guía de usuario (https://scikit-learn.org/stable/datasets/toy_dataset.html#breast-cancer-dataset) de la base de datos se brindan detalles adicionales sobre que característica representa cada dimensión de la matriz X.\n",
    "\n",
    "Esta base de datos tiene 569 muestras, de las cuales 212 son de casos malignos y los 357 restantes son de casos benignos. \n"
   ]
  },
  {
   "cell_type": "code",
   "execution_count": 14,
   "metadata": {},
   "outputs": [],
   "source": [
    "# Importación de paquetes\n",
    "from sklearn.datasets import load_breast_cancer\n",
    "import numpy as np\n",
    "from sklearn.model_selection import train_test_split\n",
    "from sklearn.naive_bayes import GaussianNB\n",
    "from sklearn import metrics"
   ]
  },
  {
   "cell_type": "code",
   "execution_count": 15,
   "metadata": {},
   "outputs": [
    {
     "name": "stdout",
     "output_type": "stream",
     "text": [
      "Nombres de las clases: ['malignant' 'benign']\n",
      "Dimension de la matriz X: (569, 30)\n",
      "Dimension del vector y: (569,)\n"
     ]
    }
   ],
   "source": [
    "# Asignamos a X e y los datos de entrada y las etiquetas\n",
    "X, y = load_breast_cancer(return_X_y=True)\n",
    "\n",
    "# Dividimos el conjunto de datos en entrenamiento y prueba\n",
    "X_train, X_test, y_train, y_test = train_test_split(X, y, test_size=0.3, random_state=0)\n",
    "\n",
    "\n",
    "# Chequeos de dimensiones\n",
    "print(f'Nombres de las clases: {load_breast_cancer().target_names}')\n",
    "print(f'Dimension de la matriz X: {X.shape}')\n",
    "print(f'Dimension del vector y: {y.shape}')"
   ]
  },
  {
   "cell_type": "markdown",
   "metadata": {},
   "source": [
    "Como se observa, se tienen 569 muestras. Además, cada muestra tiene 30 características. Se trata claramente de un problema de alta dimensionalidad."
   ]
  },
  {
   "cell_type": "code",
   "execution_count": 19,
   "metadata": {},
   "outputs": [
    {
     "name": "stdout",
     "output_type": "stream",
     "text": [
      "212 357\n"
     ]
    }
   ],
   "source": [
    "# Determinación de \"malignant\" y \"benign\"\n",
    "print(np.sum(y==0), np.sum(y==1))"
   ]
  },
  {
   "cell_type": "markdown",
   "metadata": {},
   "source": [
    "Entonces, se puede ver que $y=0$ representa a los casos malignos. \n",
    "Por otra parte, $y=1$ representa a los casos benignos."
   ]
  },
  {
   "cell_type": "code",
   "execution_count": 29,
   "metadata": {},
   "outputs": [
    {
     "name": "stdout",
     "output_type": "stream",
     "text": [
      "Primera muestra de datos de entrenamiento: \n",
      "[1.340e+01 2.052e+01 8.864e+01 5.567e+02 1.106e-01 1.469e-01 1.445e-01\n",
      " 8.172e-02 2.116e-01 7.325e-02 3.906e-01 9.306e-01 3.093e+00 3.367e+01\n",
      " 5.414e-03 2.265e-02 3.452e-02 1.334e-02 1.705e-02 4.005e-03 1.641e+01\n",
      " 2.966e+01 1.133e+02 8.444e+02 1.574e-01 3.856e-01 5.106e-01 2.051e-01\n",
      " 3.585e-01 1.109e-01]\n",
      "\n",
      "Primera predicción de datos de entrenamiento: \n",
      "1\n",
      "\n"
     ]
    }
   ],
   "source": [
    "# Creamos el clasificador Naive Bayes\n",
    "model = GaussianNB()\n",
    "\n",
    "# Entrenamos el modelo con el conjunto de entrenamiento\n",
    "model.fit(X_train, y_train)\n",
    "\n",
    "# Realizamos predicciones en el conjunto de entrenamiento\n",
    "y_pred_train = model.predict(X_train)\n",
    "\n",
    "# Realizamos predicciones en el conjunto de prueba\n",
    "y_pred_test = model.predict(X_test)\n",
    "\n",
    "# Se imprimen los valores predichos en el conjunto de entrenamiento a modo de ejemplo\n",
    "print(f'Primera muestra de datos de entrenamiento: \\n{X_test[0]}\\n')\n",
    "print(f'Primera predicción de datos de entrenamiento: \\n{y_pred_train[0]}\\n')"
   ]
  },
  {
   "cell_type": "markdown",
   "metadata": {},
   "source": [
    "El vector de dimensión 30 representa una muestra de entrada. El número 1 es el valor asignado por el modelo entrenado para esa muestra. En este caso, el modelo clasificó al caso como benigno ($y=1$)."
   ]
  },
  {
   "cell_type": "code",
   "execution_count": 28,
   "metadata": {},
   "outputs": [
    {
     "name": "stdout",
     "output_type": "stream",
     "text": [
      "Todas las predicciones de los datos de entrenamiento: \n",
      "[1 1 1 0 1 1 1 1 1 0 1 1 1 1 1 1 1 0 1 1 0 0 1 1 0 0 1 1 0 1 1 0 0 0 1 1 1\n",
      " 0 1 1 1 1 1 0 1 0 1 0 1 0 1 1 1 1 1 1 0 1 0 1 1 1 0 1 1 1 0 1 1 0 0 1 0 1\n",
      " 0 1 0 0 0 0 1 1 1 0 1 0 1 0 1 0 0 1 1 1 1 1 1 1 1 1 1 1 1 1 0 1 1 1 0 1 1\n",
      " 1 1 1 1 0 1 0 1 1 0 1 0 0 1 0 0 1 1 0 1 1 1 0 1 1 1 1 0 0 0 1 1 1 1 0 0 1\n",
      " 1 1 1 1 1 1 0 1 0 1 1 0 1 1 1 1 0 0 1 1 1 0 1 0 0 1 1 1 0 1 0 1 1 0 1 1 0\n",
      " 0 1 1 1 0 0 1 1 0 1 1 1 0 1 0 1 0 0 0 0 1 1 1 1 1 0 1 1 1 1 1 1 1 1 0 1 1\n",
      " 0 0 0 0 1 1 0 1 1 0 0 0 1 1 1 1 1 0 0 0 1 0 0 1 1 1 1 1 1 0 1 1 1 1 1 1 0\n",
      " 0 1 0 1 0 1 1 0 1 1 1 0 0 0 1 1 0 0 1 1 1 1 0 0 1 1 1 1 1 1 1 1 1 0 0 1 1\n",
      " 1 0 1 1 1 1 0 1 0 0 0 1 0 1 0 1 0 0 1 1 1 1 1 1 1 1 0 0 0 0 0 1 1 1 1 1 1\n",
      " 1 0 1 0 1 1 1 1 1 0 0 0 1 0 1 1 1 0 0 0 1 0 0 0 1 0 1 0 1 1 0 1 0 0 1 1 1\n",
      " 1 0 1 1 0 1 1 1 0 1 1 1 1 0 1 1 0 1 1 1 1 1 0 0 0 1 1 1]\n"
     ]
    }
   ],
   "source": [
    "print(f'Todas las predicciones de los datos de entrenamiento: \\n{y_pred_train}')"
   ]
  },
  {
   "cell_type": "markdown",
   "metadata": {},
   "source": [
    "Cómo se observa, cada 1 o 0 representa la estimación de una muestra por el modelo. "
   ]
  },
  {
   "cell_type": "markdown",
   "metadata": {},
   "source": [
    "Se calcula la $accuracy$, la cual se obtiene con la siguiente expresión:\n",
    "\n",
    "$accuracy = \\frac{\\# \\: de \\: datos \\: bien \\: clasificados}{\\# \\: total \\: de \\: datos \\: evaluados}$"
   ]
  },
  {
   "cell_type": "code",
   "execution_count": 18,
   "metadata": {},
   "outputs": [
    {
     "name": "stdout",
     "output_type": "stream",
     "text": [
      "Precisión del modelo en datos de entrenamiento: 0.94\n",
      "Precisión del modelo en datos de testeo: 0.92\n"
     ]
    }
   ],
   "source": [
    "# Calculamos la precisión del modelo\n",
    "accuracy_train = metrics.accuracy_score(y_train, y_pred_train)\n",
    "accuracy_test = metrics.accuracy_score(y_test, y_pred_test)\n",
    "\n",
    "# Se imprimen resultados\n",
    "print(f\"Precisión del modelo en datos de entrenamiento: {accuracy_train:.2f}\")\n",
    "print(f\"Precisión del modelo en datos de testeo: {accuracy_test:.2f}\")"
   ]
  },
  {
   "cell_type": "markdown",
   "metadata": {},
   "source": [
    "En otros capítulos veremos más detalles sobre la $accuracy$ y presentaremos otras métricas."
   ]
  }
 ],
 "metadata": {
  "kernelspec": {
   "display_name": "Python 3",
   "language": "python",
   "name": "python3"
  },
  "language_info": {
   "codemirror_mode": {
    "name": "ipython",
    "version": 3
   },
   "file_extension": ".py",
   "mimetype": "text/x-python",
   "name": "python",
   "nbconvert_exporter": "python",
   "pygments_lexer": "ipython3",
   "version": "3.9.7"
  }
 },
 "nbformat": 4,
 "nbformat_minor": 2
}
