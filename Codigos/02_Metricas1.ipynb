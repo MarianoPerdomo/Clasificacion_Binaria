{
 "cells": [
  {
   "cell_type": "markdown",
   "metadata": {},
   "source": [
    "# Práctica de TP, FP, TN, FN y Matriz de Confusión."
   ]
  },
  {
   "cell_type": "markdown",
   "metadata": {},
   "source": [
    "Se trabaja con el dataset \"breast_cancer\" de scikit-learn. Para más detalles se recomienda consultar el capítulo previo."
   ]
  },
  {
   "cell_type": "code",
   "execution_count": 139,
   "metadata": {},
   "outputs": [],
   "source": [
    "# Importaciones\n",
    "from sklearn.datasets import load_breast_cancer\n",
    "import matplotlib.pyplot as plt\n",
    "import numpy as np\n",
    "from sklearn.model_selection import train_test_split\n",
    "from sklearn.naive_bayes import GaussianNB\n",
    "\n",
    "import seaborn as sns\n",
    "import pandas as pd\n",
    "from sklearn.metrics import confusion_matrix\n",
    "from sklearn.metrics import ConfusionMatrixDisplay"
   ]
  },
  {
   "cell_type": "code",
   "execution_count": 140,
   "metadata": {},
   "outputs": [],
   "source": [
    "# Asignamos a X e y los datos de entrada y las etiquetas\n",
    "X, y = load_breast_cancer(return_X_y=True)\n",
    "\n",
    "# Dividimos datos en datos de entrenamiento y testeo\n",
    "X_train, X_test, y_train, y_test = train_test_split(X, y, test_size=0.3, random_state=0)"
   ]
  },
  {
   "cell_type": "code",
   "execution_count": 141,
   "metadata": {},
   "outputs": [],
   "source": [
    "# Se instancia un modelo de Naive Bayes\n",
    "modelo_nb = GaussianNB()\n",
    "\n",
    "# Se entrena el modelo\n",
    "modelo_nb.fit(X_train, y_train)\n",
    "\n",
    "# Se hacen predicciones en el conjunto de datos de testeo\n",
    "y_pred = modelo_nb.predict(X_test)"
   ]
  },
  {
   "cell_type": "markdown",
   "metadata": {},
   "source": [
    "## Función para calcular TP, FP, TN y FN\n",
    "\n",
    "Se crea una función que tome como entrada los valores verdaderos ($y_{true}$) y estimados ($y_{pred}$) de las salidas y que devuelva los valores de TP, FP, TN y FN.\n",
    "Esta función será de utilidad para posteriores cálculos de métricas."
   ]
  },
  {
   "cell_type": "code",
   "execution_count": 142,
   "metadata": {},
   "outputs": [],
   "source": [
    "def TP_FP_TN_FN(y_true, y_pred):\n",
    "    \"\"\"\n",
    "    True Positive, False Positive, True Negative y False Negative\n",
    "\n",
    "    Indicadores de cuantas predicciones de clases positivas y negativas \n",
    "    son hechas correctamente e incorrectamente. Estas medidas son la base\n",
    "    para definir otras herramientas o métricas útiles para clasificadores binarios.\n",
    "\n",
    "    Parameters\n",
    "    ----------\n",
    "    y_true_ :   Array de tamaño (n_samples)\n",
    "                Valores verdaderos de las salidas.\n",
    "\n",
    "    y_pred_ :   Array de tamaño (n_samples)\n",
    "                Valores estimados las salidas.\n",
    "\n",
    "    Returns\n",
    "    -------\n",
    "    TP :    int, True Positive obtenido \n",
    "\n",
    "    FP :    int, False Positive obtenido   \n",
    "\n",
    "    TN :    int, True Negative obtenido\n",
    "\n",
    "    FN :    int, False Negative obtenido        \n",
    "    \"\"\"\n",
    "    # Cantidad de instancias positivas clasificadas correctamente como positivas\n",
    "    TP = np.sum( (y_true == y_pred)[y_true == 1] )\n",
    "\n",
    "    # Cantidad de instancias negativas clasificadas incorrectamente como positivas\n",
    "    FP = np.sum( (y_true != y_pred)[y_true == -1] )\n",
    "\n",
    "    # Cantidad de instancias negativas clasificadas correctamente como negativas\n",
    "    TN = np.sum( (y_true == y_pred)[y_true == -1] )\n",
    "\n",
    "    # Cantidad de instancias positivas clasificadas incorrectamente como negativas\n",
    "    FN = np.sum( (y_true != y_pred)[y_true == 1] )\n",
    "\n",
    "    return TP, FP, TN, FN"
   ]
  },
  {
   "cell_type": "code",
   "execution_count": 143,
   "metadata": {},
   "outputs": [
    {
     "data": {
      "text/html": [
       "<div>\n",
       "<style scoped>\n",
       "    .dataframe tbody tr th:only-of-type {\n",
       "        vertical-align: middle;\n",
       "    }\n",
       "\n",
       "    .dataframe tbody tr th {\n",
       "        vertical-align: top;\n",
       "    }\n",
       "\n",
       "    .dataframe thead th {\n",
       "        text-align: right;\n",
       "    }\n",
       "</style>\n",
       "<table border=\"1\" class=\"dataframe\">\n",
       "  <thead>\n",
       "    <tr style=\"text-align: right;\">\n",
       "      <th></th>\n",
       "      <th>TP</th>\n",
       "      <th>FP</th>\n",
       "      <th>TN</th>\n",
       "      <th>FN</th>\n",
       "    </tr>\n",
       "  </thead>\n",
       "  <tbody>\n",
       "    <tr>\n",
       "      <th>Función Propia</th>\n",
       "      <td>101</td>\n",
       "      <td>6</td>\n",
       "      <td>57</td>\n",
       "      <td>7</td>\n",
       "    </tr>\n",
       "    <tr>\n",
       "      <th>Función Scikit-learn</th>\n",
       "      <td>101</td>\n",
       "      <td>6</td>\n",
       "      <td>57</td>\n",
       "      <td>7</td>\n",
       "    </tr>\n",
       "  </tbody>\n",
       "</table>\n",
       "</div>"
      ],
      "text/plain": [
       "                       TP  FP  TN  FN\n",
       "Función Propia        101   6  57   7\n",
       "Función Scikit-learn  101   6  57   7"
      ]
     },
     "execution_count": 143,
     "metadata": {},
     "output_type": "execute_result"
    }
   ],
   "source": [
    "# Convertimos los 0 a -1 para que sean compatible los vectores con la función definida\n",
    "y_test[y_test==0] = -1\n",
    "y_pred[y_pred==0] = -1\n",
    "\n",
    "# Cálculo de Tp, FP, TN y FN con la función propia\n",
    "TP, FP, TN, FN = TP_FP_TN_FN(y_test, y_pred)\n",
    "\n",
    "# Cálculo de Tp, FP, TN y FN con función de scikit-learn\n",
    "TN_sklearn, FP_sklearn, FN_sklearn, TP_sklearn = confusion_matrix(y_test, y_pred).ravel()\n",
    "\n",
    "# Se comparan los resultados obtenidos con ambos métodos en un Data Frame de Pandas\n",
    "df_TP_FP_TN_FN = pd.DataFrame(columns=['TP', 'FP', 'TN', 'FN'])\n",
    "df_TP_FP_TN_FN.loc['Función Propia'] = [TP, FP, TN, FN]\n",
    "df_TP_FP_TN_FN.loc['Función Scikit-learn'] = [TP_sklearn, FP_sklearn, TN_sklearn, FN_sklearn]\n",
    "df_TP_FP_TN_FN"
   ]
  },
  {
   "cell_type": "markdown",
   "metadata": {},
   "source": [
    "## Función para obtener la Matriz de Confusión\n",
    "\n",
    "Se crea una función que devuelva la matriz de confusión. Cómo se vio previamente, esta matriz está compuesta por los valores de TP, FP, TN y FN, entonces, se hace uso de la función previamente definida y luego se acomodan como corresponde cada valor para conformar la matriz de confusión."
   ]
  },
  {
   "cell_type": "code",
   "execution_count": 144,
   "metadata": {},
   "outputs": [],
   "source": [
    "def MatrizConfusion(y_true_, y_pred_, plotear=False):\n",
    "    \"\"\"\n",
    "    Matriz de confusión de un clasificador binario.\n",
    "\n",
    "    MatrizConfusion presenta de manera comprensible los True Positive (TP), \n",
    "    False Postive (FP), True Negative (TN) y False Negative (FN). Con esta\n",
    "    se pueden hacer distintos tipos de comparaciones de los clasificadores binarios.\n",
    "\n",
    "    Parameters\n",
    "    ----------\n",
    "    y_true_ :   Array de tamaño (n_samples)\n",
    "                Valores verdaderos de las salidas.\n",
    "\n",
    "    y_pred_ :   Array de tamaño (n_samples)\n",
    "                Valores estimados las salidas.\n",
    "\n",
    "    plotear:    Booleana, default=False\n",
    "                Si es True, se grafica un mapa de calor con la matriz de confusión; \n",
    "                de otra manera, no se grafica la matriz de confusión.\n",
    "\n",
    "    Returns\n",
    "    -------\n",
    "    Matriz_Confusion:   ndarray de tamaño (2, 2)\n",
    "                        Matriz que contiene los valores de TP, FP, TN y FN con el orden:\n",
    "                            [[TP, FN],\n",
    "                             [FP, TN]].    \n",
    "    \"\"\"\n",
    "    # Se obtienen los valores de TP, FP, TN y FN\n",
    "    TP, FP, TN, FN = TP_FP_TN_FN(y_true_, y_pred_)\n",
    "\n",
    "    # Se conforma la Matriz de Confusión\n",
    "    Matriz_Confusion = np.array([[TP, FN],\n",
    "                                 [FP, TN]])\n",
    "    \n",
    "    if plotear:\n",
    "        # Se crea un heatmap usando Seaborn\n",
    "        sns.heatmap(Matriz_Confusion, annot=True, fmt=\"d\", cmap=\"Blues\", xticklabels=[1, -1], yticklabels=[1, -1], cbar=True)\n",
    "        \n",
    "        plt.title(\"Matriz de Confusión\")\n",
    "        plt.xlabel(\"Predicho\")\n",
    "        plt.ylabel(\"Verdadero\")\n",
    "\n",
    "    return Matriz_Confusion"
   ]
  },
  {
   "cell_type": "markdown",
   "metadata": {},
   "source": [
    "### Obtención de las matrices de confusión"
   ]
  },
  {
   "cell_type": "code",
   "execution_count": 145,
   "metadata": {},
   "outputs": [
    {
     "name": "stdout",
     "output_type": "stream",
     "text": [
      "Matriz de confusión generada con función propia:\n",
      "[[101   7]\n",
      " [  6  57]]\n",
      "\n",
      "Matriz de confusión generada con scikit-learn:\n",
      "[[ 57   6]\n",
      " [  7 101]]\n"
     ]
    }
   ],
   "source": [
    "# Se obtiene la matriz de confusión con la función propia\n",
    "matriz_confusion = MatrizConfusion(y_test, y_pred)\n",
    "\n",
    "# Se obtiene la matriz de confusión con función de scikit-learn\n",
    "matriz_confusion_sklearn = confusion_matrix(y_test, y_pred)\n",
    "\n",
    "print('Matriz de confusión generada con función propia:')\n",
    "print(matriz_confusion)\n",
    "print('\\nMatriz de confusión generada con scikit-learn:')\n",
    "print(matriz_confusion_sklearn)"
   ]
  },
  {
   "cell_type": "markdown",
   "metadata": {},
   "source": [
    "Se observa que los elementos en los dos resultados difieren. Graficando las matrices se podrá ver si hay un error o si están distribuidos de manera distinta."
   ]
  },
  {
   "cell_type": "markdown",
   "metadata": {},
   "source": [
    "### Gráficas de las matrices de confusión"
   ]
  },
  {
   "cell_type": "code",
   "execution_count": 146,
   "metadata": {},
   "outputs": [
    {
     "data": {
      "image/png": "[encoded data removed]",
      "text/plain": [
       "<Figure size 640x480 with 2 Axes>"
      ]
     },
     "metadata": {},
     "output_type": "display_data"
    },
    {
     "data": {
      "image/png": "[encoded data removed]",
      "text/plain": [
       "<Figure size 640x480 with 2 Axes>"
      ]
     },
     "metadata": {},
     "output_type": "display_data"
    }
   ],
   "source": [
    "# Se grafica la matriz de confusión con la función propia\n",
    "matriz_confusion = MatrizConfusion(y_test, y_pred, True)\n",
    "plt.title('Matriz de confusión generada con función propia')\n",
    "\n",
    "# Se grafica la matriz de confusión con función de scikit-learn\n",
    "matriz_confusion_sklearn = ConfusionMatrixDisplay.from_predictions(y_test, y_pred)\n",
    "plt.title('Matriz de confusión generada con scikit-learn')\n",
    "plt.show()"
   ]
  },
  {
   "cell_type": "markdown",
   "metadata": {},
   "source": [
    "Como se observa, la función de scikit-learn intercambió los lugares de las etiquetas de salida con respecto a la función propia que armamos. Ambos resultados son correctos, aun así, esto nos advierte de que si se utiliza una función de una determinada librería, es muy importante verificar en que formato se presentan los resultados para no cometer errores en la interpretación de los mismos."
   ]
  }
 ],
 "metadata": {
  "kernelspec": {
   "display_name": "Python 3",
   "language": "python",
   "name": "python3"
  },
  "language_info": {
   "codemirror_mode": {
    "name": "ipython",
    "version": 3
   },
   "file_extension": ".py",
   "mimetype": "text/x-python",
   "name": "python",
   "nbconvert_exporter": "python",
   "pygments_lexer": "ipython3",
   "version": "3.11.6"
  }
 },
 "nbformat": 4,
 "nbformat_minor": 2
}
